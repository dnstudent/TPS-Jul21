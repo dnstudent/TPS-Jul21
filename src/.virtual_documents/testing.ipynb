from lib.data.utils import train_data, targets, features, split_dataframe
from lib.data.plot import plot_predictions
from lib.models.estimators import PollutionEstimator
from lib.models.forecast import SimplePollutionLSTM, SimplePollutionGRU
from statsmodels.tsa.deterministic import DeterministicProcess, CalendarFourier


import tensorflow as tf
from keras.callbacks import TensorBoard as TB, EarlyStopping as ES
import pandas as pd
import seaborn as sns
sns.set_theme("notebook", style="whitegrid", rc={"figure.dpi": 72})

data_dir = "../data/"

df = train_data(data_dir, delta=True)
in_day_features = CalendarFourier("D", 8)
time_features = DeterministicProcess(
    df.to_period("H").index,
    constant=False,
    additional_terms=[in_day_features],
    drop=True
).in_sample().to_timestamp()

df = df.join(time_features, how="left")
all_features = features + time_features.columns.to_list()
# y = df[targets]

(train_df, train_split), test_df = split_dataframe(df, 0.2, 0.0)




from keras.optimizers import SGD, RMSprop, Adam
# from tensorflow.keras.optimizers.schedules import InverseTimeDecay

# optimizer=SGD(learning_rate=InverseTimeDecay(0.001, decay_steps=3, decay_rate=0.2))
compilation_kwargs = {"loss": "mse"}
with tf.device("/CPU:0"):
    model = SimplePollutionGRU(len(all_features), len(targets), n_recursive_units=256,
                          input_days=7, output_days=1 / 24)
    estimator = PollutionEstimator(all_features, targets, input_days=model.input_days, output_days=model.output_days,
                                   offset_hours=model.offset_hours, shift_hours=model.shift_hours, pollution_model=model, compilation_kwargs=compilation_kwargs)
    estimator.compile(optimizer=RMSprop(learning_rate=1e-4), **compilation_kwargs)



with tf.device("/CPU:0"):
    estimator.train(train_df, epochs=50, validation_data=test_df, train_split=train_split, callbacks=[
                    TB("../logs/tf_deltas/256"), ES(patience=20, restore_best_weights=True)])



fg = plot_predictions(test_df, estimator, aspect=3, facet_kws={
                      "sharey": False, "xlim": (pd.Timestamp("2010-03-15"), pd.Timestamp("2010-03-25"))})



estimator.targets_reconstruction.variance




